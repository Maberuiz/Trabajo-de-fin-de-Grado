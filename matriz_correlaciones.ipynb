{
 "cells": [
  {
   "cell_type": "code",
   "execution_count": 1,
   "metadata": {},
   "outputs": [],
   "source": [
    "import pandas as pd\n",
    "import numpy as np\n",
    "import matplotlib.pyplot as plt\n",
    "from matplotlib.colors import LogNorm\n",
    "from pandas.plotting import scatter_matrix\n",
    "import pylab as p"
   ]
  },
  {
   "cell_type": "markdown",
   "metadata": {},
   "source": [
    "### Población 1 (Primer Dataset del artículo)"
   ]
  },
  {
   "cell_type": "code",
   "execution_count": 6,
   "metadata": {},
   "outputs": [],
   "source": [
    "## Dataset1, Population1 en orden OTU1, OTU2,...,OTU11 ( pero sin OTU7 y OTU10 que están vacíos)\n",
    "\n",
    "dataset1= np.array([[1.7504, 1.9062, 1.8324, 1.5969, 2.7665, 2.0483, 1.7458, 2.0918, 2.5396, 5.1404, 2.4626, 1.6281],\n",
    "[2.6576, 1.2462, 1.8921, 0.85085, 3.0209, 3.9478, 2.09, 1.7705, 2.4263, 3.1981, 2.0662, 1.9639],\n",
    "[0.65623, 0.41541, 0.71474, 0.66854, 0.5964, 0.58849, 0.38075, 0.53361, 0.68452, 0.98656, 0.6122, 0.36679],\n",
    "[0.97446, 1.383, 1.725, 1.0248, 1.931, 1.7909, 1.3912, 1.3836, 1.8417, 2.5651, 1.6986, 1.3812],\n",
    "[0.0065623, 0.011831, 0.011938, 0.007335, 0.0097317, 0.0080431, 0.01046, 0.042623, 0.0085261, 0.014388, 0.016309, 0.043974],\n",
    "[0.011483, 0.0078875, 0.25517, 0.0010479, 0.0083412, 0.024129, 0.079495, 0.027869, 0.01218, 0.0082214, 0.24714, 0.044974],\n",
    "[0.0082023, 0.027606, 0.019399, 0.0041915, 0.0097317, 0.0093834, 0.0041841, 0.0016393, 0.0085261, 0.010277, 0.0087817, 0.00031107],\n",
    "[0., 0., 0., 0., 0., 0., 0., 0., 0.00096746, 0.0020553, 0.00099644, 0.0007938],\n",
    "[0., 0., 0., 0., 0.001155, 0.0011137, 0.00086908, 0.0016393, 0., 0., 0., 0.] ])"
   ]
  },
  {
   "cell_type": "code",
   "execution_count": 3,
   "metadata": {},
   "outputs": [],
   "source": [
    "#normalización de los datos\n",
    "dataset1[dataset1 == 0.] = 0.5\n",
    "sum0=np.sum(dataset1,axis=0)\n",
    "data1_n=dataset1/sum0"
   ]
  },
  {
   "cell_type": "code",
   "execution_count": 4,
   "metadata": {},
   "outputs": [
    {
     "name": "stdout",
     "output_type": "stream",
     "text": [
      "(9, 9)\n"
     ]
    }
   ],
   "source": [
    "#cálculo de la matriz de correlación\n",
    "M_covar1=np.cov(data1_n)\n",
    "size1=M_covar1.shape #comprobación de que las dimensiones de la matriz son correctas\n",
    "print(size1)"
   ]
  },
  {
   "cell_type": "code",
   "execution_count": 5,
   "metadata": {},
   "outputs": [
    {
     "data": {
      "text/plain": [
       "array([[ 2.43435886e-01, -1.95732475e-01,  4.90237021e-03,\n",
       "         2.91866825e-02,  3.07150441e-04, -1.41175550e-02,\n",
       "        -3.87079546e-04, -6.74236647e-02, -1.71315036e-04],\n",
       "       [-1.95732475e-01,  5.64028304e-01, -8.42092410e-02,\n",
       "        -6.22121972e-02, -7.16102756e-04, -1.11119735e-02,\n",
       "        -3.36312141e-03, -4.65794894e-02, -1.60103704e-01],\n",
       "       [ 4.90237021e-03, -8.42092410e-02,  3.69714717e-02,\n",
       "        -1.73893690e-02, -9.50485010e-04,  5.58443229e-04,\n",
       "        -4.88200033e-05,  2.32359618e-02,  3.69296681e-02],\n",
       "       [ 2.91866825e-02, -6.22121972e-02, -1.73893690e-02,\n",
       "         6.93676410e-02,  1.89860271e-03,  1.09355460e-02,\n",
       "         5.65232836e-04, -2.61723857e-02, -6.17975307e-03],\n",
       "       [ 3.07150441e-04, -7.16102756e-04, -9.50485010e-04,\n",
       "         1.89860271e-03,  5.04159022e-04,  6.05459155e-05,\n",
       "        -9.55755065e-05, -1.17595178e-03,  1.67656970e-04],\n",
       "       [-1.41175550e-02, -1.11119735e-02,  5.58443229e-04,\n",
       "         1.09355460e-02,  6.05459155e-05,  1.49270030e-02,\n",
       "         2.02974391e-04, -7.40260657e-03,  5.94762250e-03],\n",
       "       [-3.87079546e-04, -3.36312141e-03, -4.88200033e-05,\n",
       "         5.65232836e-04, -9.55755065e-05,  2.02974391e-04,\n",
       "         1.48116485e-04,  1.45061388e-03,  1.52765888e-03],\n",
       "       [-6.74236647e-02, -4.65794894e-02,  2.32359618e-02,\n",
       "        -2.61723857e-02, -1.17595178e-03, -7.40260657e-03,\n",
       "         1.45061388e-03,  1.43869444e-01, -1.98019219e-02],\n",
       "       [-1.71315036e-04, -1.60103704e-01,  3.69296681e-02,\n",
       "        -6.17975307e-03,  1.67656970e-04,  5.94762250e-03,\n",
       "         1.52765888e-03, -1.98019219e-02,  1.41684087e-01]])"
      ]
     },
     "execution_count": 5,
     "metadata": {},
     "output_type": "execute_result"
    }
   ],
   "source": [
    "B1_ij=M_covar1*100.  #paso a porcentaje\n",
    "B1_ij[:,:]"
   ]
  },
  {
   "cell_type": "markdown",
   "metadata": {},
   "source": [
    "### Población 2 (Segundo Dataset del artículo)"
   ]
  },
  {
   "cell_type": "code",
   "execution_count": 7,
   "metadata": {},
   "outputs": [],
   "source": [
    "## Dataset2, Population1 en orden OTU1, OTU2,...,OTU11 ( pero sin OTU7 que está vacío)\n",
    "\n",
    "dataset2 = np.array([[0.092745,0.00016789,0.00012887,0.0023599,0.00085549,0.00068794,0.00010693,0.00012018,0.00018803,0.00000701,0.0000163,0.067426,0.00022153,0.0001833,0.00065826,0.0015076,0.00063935,0.00020535,0.00023497,0.00044429,0.00018814,0.0000228,0.23636,0.00041983,0.00012594,0.0019756,0.00054311,0.0011473,0.00029915,0.0002606,0.00050336,0.0000723,0.0000648],\n",
    "[0.21958,0.00011467,0.0000880,0.0016118,0.00058431,0.00046986,0.0000730,0.0000821,0.00012842,0.00000479,0.0000111,0.086895,0.0000468,0.0000388,0.00013926,0.000319,0.00013533,0.0000434,0.0000497,0.0000940,0.0000398,0.00000482,0.0036644,0.0000545,0.0000210,0.00032936,0.0000906,0.00019117,0.0000499,0.0000435,0.0000839,0.0000120,0.0000108],\n",
    "[0.032505,0.0000754,0.0000579,0.0010598,0.00038419,0.00030906,0.0000480,0.0000539,0.0000844,0.00000315,0.00000730,0.020934,0.00014686,0.00012152,0.00043639,0.00099949,0.00042385,0.00013613,0.00015577,0.00029454,0.00012472,0.0000151,0.000172,0.00019707,0.0000759,0.0050708,0.00032718,0.0006912,0.00018021,0.00015699,0.00030323,0.0000435,0.0000390],    \n",
    "[0.11138,0.0040425,0.0025858,0.42617,0.090981,0.012423,0.0025747,0.010369,0.0060367,0.0011964,0.0031645,0.033064,0.00023839,0.0021698,0.078628,0.029203,0.0013761,0.013258,0.0032871,0.0066935,0.0038467,0.00014711,0.76658,0.00041983,0.0011314,0.45132,0.0041822,0.00023896,0.0065268,0.0033446,0.0032302,0.047293,0.00066546],    \n",
    "[0.00086677,0.0000401,0.0072401,0.0047352,2.3947,2.6006,0.11887,0.10996,0.1645,0.004687,0.016507,0.0004514,0.0000580,0.0013808,1.0803,1.1454,1.2151,0.13789,0.10544,0.3256,0.21501,0.0058109,0.00019451,0.00022285,0.00000858,0.21044,0.46772,1.4298,0.13822,0.14549,0.40119,0.07094,0.036517],    \n",
    "[0.0014446,0.00033688,0.00051716,0.0045446,0.0016475,0.0013248,0.022957,0.11623,0.22487,0.019142,0.044009,0.00039497,0.0000834,0.00019725,0.00024791,0.00056781,0.0002408,0.010386,0.071306,0.014822,0.068227,0.025156,0.00036644,0.00039213,0.00015097,0.0023681,0.00065104,0.0013753,0.00035859,0.10503,0.023902,0.1008,0.073035],    \n",
    "[0.033082, 0.00019716, 0.051716, 0.0094701, 0.50642, 0.31196, 0.28451, 0.00014113, 0.00022081, 0.00000824, 0.0000191, 0.00056424, 0.0000599, 0.0000495, 0.00017785, 1.6581, 0.84491, 0.36704, 0.0000635, 0.00012005, 0.0000508, 0.00000616, 0.00073287, 0.00023881, 0.0000919, 0.0076064, 0.97933, 1.9879, 0.67456, 0.00019025, 0.00036747, 0.0000527, 0.0000473],\n",
    "[0.00014446,0.00025308,0.0018101,1.0891,0.0017166,0.001037,0.00016119,0.00018116,0.00028344,0.0000106,0.0000245,0.0002257,0.00011283,0.0000934,0.0021251,0.00076787,0.00032564,0.00010459,0.00011967,0.00022629,0.0000958,0.0000116,0.00000436,0.000005,0.067076,2.145,0.00000829,0.0000175,0.00000457,0.00000398,0.00000769,0.0000011,0.00000099],\n",
    "[0.0000368,0.0023581,0.0010343,0.15152,0.017166,0.0013804,0.003862,0.00048228,0.0000963,0.0000141,0.0000326,0.0000198,0.0023839,0.0011835,0.0092087,0.0016224,0.0020641,0.00088395,0.0015171,0.00047812,0.0000712,0.000049,0.00073287,0.00083967,0.001778,0.11409,0.00023499,0.00049644,0.00076785,0.00033446,0.00021779,0.0000927,0.0000832],                      \n",
    "[0.0000235, 0.86914, 0.41501, 5.0998, 0.42916, 0.24018, 0.14225, 0.46902, 0.58179, 0.0032515, 0.015072, 0.0000459, 0.67226, 0.49195, 0.204, 0.50942, 0.018577, 0.29589, 0.44604, 0.44034, 0.070052, 0.0035308, 0.0029315, 1.0752, 0.39082, 0.23833, 0.064127, 0.070683, 0.25992, 0.66458, 0.59887, 0.020215, 0.029696]])"
   ]
  },
  {
   "cell_type": "code",
   "execution_count": 8,
   "metadata": {},
   "outputs": [],
   "source": [
    "dataset2[dataset2 == 0.] = 0.5\n",
    "sum1=np.sum(dataset2,axis=0)\n",
    "data2_n=dataset2/sum1"
   ]
  },
  {
   "cell_type": "code",
   "execution_count": 9,
   "metadata": {},
   "outputs": [
    {
     "name": "stdout",
     "output_type": "stream",
     "text": [
      "(10, 10)\n"
     ]
    }
   ],
   "source": [
    "M_covar2=np.cov(data2_n)\n",
    "size2=M_covar2.shape\n",
    "print(size2)"
   ]
  },
  {
   "cell_type": "code",
   "execution_count": 10,
   "metadata": {},
   "outputs": [
    {
     "data": {
      "text/plain": [
       "array([[ 5.50010376e-01,  6.18987791e-01,  1.26720026e-01,\n",
       "         7.14706426e-01, -5.36540882e-01, -2.64236479e-01,\n",
       "        -2.46566202e-01, -6.79438804e-02, -6.66932737e-03,\n",
       "        -8.88467847e-01],\n",
       "       [ 6.18987791e-01,  1.08676078e+00,  2.06871344e-01,\n",
       "         3.78013779e-01, -6.23278558e-01, -3.05555440e-01,\n",
       "        -2.39048615e-01, -7.93059247e-02, -8.32275505e-03,\n",
       "        -1.03512240e+00],\n",
       "       [ 1.26720026e-01,  2.06871344e-01,  4.18681881e-02,\n",
       "         6.71938364e-02, -1.19584142e-01, -5.88655380e-02,\n",
       "        -5.03699616e-02, -1.23592949e-02, -1.45668965e-03,\n",
       "        -2.00017769e-01],\n",
       "       [ 7.14706426e-01,  3.78013779e-01,  6.71938364e-02,\n",
       "         1.93763876e+00, -7.78863881e-01, -1.98117965e-01,\n",
       "        -5.84198383e-01,  1.61597459e-01,  6.38827420e-03,\n",
       "        -1.70435831e+00],\n",
       "       [-5.36540882e-01, -6.23278558e-01, -1.19584142e-01,\n",
       "        -7.78863881e-01,  5.74312731e+00, -1.09047264e-01,\n",
       "         1.00770834e+00, -5.73662367e-01, -2.70999433e-02,\n",
       "        -3.98275861e+00],\n",
       "       [-2.64236479e-01, -3.05555440e-01, -5.88655380e-02,\n",
       "        -1.98117965e-01, -1.09047264e-01,  4.51141489e+00,\n",
       "        -1.40025541e+00, -3.54047320e-01, -2.88261400e-02,\n",
       "        -1.79246333e+00],\n",
       "       [-2.46566202e-01, -2.39048615e-01, -5.03699616e-02,\n",
       "        -5.84198383e-01,  1.00770834e+00, -1.40025541e+00,\n",
       "         4.74204415e+00, -3.77493085e-01, -2.14103779e-02,\n",
       "        -2.83041045e+00],\n",
       "       [-6.79438804e-02, -7.93059247e-02, -1.23592949e-02,\n",
       "         1.61597459e-01, -5.73662367e-01, -3.54047320e-01,\n",
       "        -3.77493085e-01,  1.47821688e+00,  7.89660385e-02,\n",
       "        -2.53968508e-01],\n",
       "       [-6.66932737e-03, -8.32275505e-03, -1.45668965e-03,\n",
       "         6.38827420e-03, -2.70999433e-02, -2.88261400e-02,\n",
       "        -2.14103779e-02,  7.89660385e-02,  5.09029291e-03,\n",
       "         3.34062769e-03],\n",
       "       [-8.88467847e-01, -1.03512240e+00, -2.00017769e-01,\n",
       "        -1.70435831e+00, -3.98275861e+00, -1.79246333e+00,\n",
       "        -2.83041045e+00, -2.53968508e-01,  3.34062769e-03,\n",
       "         1.26842266e+01]])"
      ]
     },
     "execution_count": 10,
     "metadata": {},
     "output_type": "execute_result"
    }
   ],
   "source": [
    "B2_ij=M_covar2*100.\n",
    "B2_ij[:,:]"
   ]
  },
  {
   "cell_type": "markdown",
   "metadata": {},
   "source": [
    "### Población 3 (Tercer Dataset del artículo)"
   ]
  },
  {
   "cell_type": "code",
   "execution_count": 11,
   "metadata": {},
   "outputs": [],
   "source": [
    "## Dataset3, Population1 en orden OTU1, OTU2,...,OTU11 \n",
    "\n",
    "dataset3 = np.array([[0.0097622, 0.0010183, 0.001208, 0.0000217, 0.0000413, 0.00017071, 0.00018846, 0.00091923, 0.0026339, 0.0027007, 1.7757, 0.00025872, 0.00041343, 0.0000964, 0.0000463, 0.0010204, 0.00028451, 0.00031706, 0.0014679, 0.00071871, 0.0010268, 1.397, 0.00013787, 0.00042473, 0.0000142, 0.0000189, 0.00071497, 0.00099094, 0.00043309, 0.0015478, 0.00097491, 0.0019386],\n",
    "[0.0073633, 0.001143, 0.00074197, 0.00012181, 0.00018558, 0.00010486, 0.00011576, 0.0010318, 0.0016178, 0.0016588, 0.0096459, 0.0000739, 0.00021501, 0.0000501, 0.00092559, 0.00053042, 0.00014789, 0.00016493, 0.0053403, 0.00037397, 0.00053438, 1.0672, 0.0001498, 0.00046148, 0.0000236, 0.0000944, 0.00077683, 0.0010767, 0.00047058, 0.0016817, 0.0010593, 0.0021062],                      \n",
    "[0.0035543, 0.00029453, 0.0054235, 0.0000244, 0.0000119, 0.0000493, 0.0000545, 0.00026563, 0.00076139, 0.00078056, 0.0003336, 0.0000984, 0.00028611, 0.0000668, 0.00033658, 0.00070619, 0.0001969, 0.00021943, 0.0010159, 0.0004975, 0.00071076, 0.20051, 0.0001032, 0.00031789, 0.0000106, 0.0000142, 0.00053511, 0.00074167, 0.00032414, 0.0011584, 0.00072983, 0.0014507],                      \n",
    "[0.011583, 0.012573, 0.0094916, 0.0018271, 0.0019022, 0.0059399, 0.0006346, 0.015477, 0.076868, 0.13036, 0.075414, 0.0059504, 0.0060163, 0.0007018, 0.0069842, 0.10766, 0.0000279, 0.0046141, 0.22963, 0.022227, 0.011206, 0.61869, 0.32774, 0.25189, 0.0027411, 0.0065157, 0.44776, 0.0214, 0.015108, 0.025712, 1.7976, 3.7291],\n",
    "[0.0000588, 0.00079905, 0.0013559, 0.00031671, 0.0053817, 0.018012, 0.04421, 0.31986, 3.5921, 2.0311, 0.48316, 0.015005, 0.00044015, 0.011229, 0.0090037, 0.21532, 0.10972, 0.35874, 2.4779, 2.2344, 2.8296, 0.0045457, 0.000038, 0.00011672, 0.00033082, 0.00081843, 0.065322, 0.042801, 0.045325, 1.2856, 0.65426, 1.6649],\n",
    "[0.00017625, 0.0010965, 0.0013007, 0.0000487, 0.00018558, 0.0034491, 0.00020292, 0.55097, 1.1767, 4.4138, 0.091197, 0.0012936, 0.00068977, 0.005088, 0.0059741, 0.0018562, 0.00047469, 0.000529, 0.002449, 0.0011992, 0.0017131, 0.0020202, 0.0000602, 0.00018552, 0.0000945, 0.0000944, 0.0011877, 0.00043289, 0.00018927, 0.082272, 0.00042599, 4.6533],\n",
    "[0.0000294, 0.00015848, 0.00018786, 0.0000487, 0.0000464, 0.00095807, 0.00021153, 0.00014287, 0.0004099, 0.00042039, 0.00066397, 0.00019589, 0.00056945, 0.00017545, 0.00016829, 0.0014055, 0.00039188, 0.00043672, 0.01068, 0.00099001, 0.0014143, 0.00034809, 0.00015785, 0.00048629, 0.00085068, 0.00053511, 0.0011877, 0.0011345, 0.00049583, 0.0017721, 0.0011162, 0.0032203],\n",
    "[0.0000196, 0.00096095, 0.075931, 0.003776, 0.0020878, 0.0019161, 0.00017784, 0.00086743, 0.0024855, 0.0025486, 0.00049792, 0.0001469, 0.1301, 0.0029826, 0.00016829, 0.001054, 0.00029388, 0.0003275, 0.0015161, 0.00074241, 0.014942, 0.0035356, 0.0000192, 0.040217, 0.00000198, 0.0025497, 0.01544, 1.2428, 0.0000602, 0.00021523, 0.00013607, 0.00026972],\n",
    "[0, 0.00017064, 0.0040678, 0.023875, 0.023706, 0.081055, 0.031941, 0.070163, 1.8389, 1.7067, 0, 0.000195, 0.059412, 0.14281, 0.04485, 0.15406, 0.0051755, 0.09055, 1.3591, 2.5874, 2.7176, 0, 0.00017134, 0.0035278, 0.0000945, 0.018446, 0.19834, 0.12017, 0.01295, 0.24168, 3.2082, 3.0464],\n",
    "[0.00000249, 0.00029079, 0.0081357, 0.0015592, 0.0029692, 0.013796, 0.00084614, 0.0072227, 0.011825, 0.036377, 0.0000664, 0.0010349, 0.0067684, 0.014738, 0.0033658, 0.0018562, 0.0000393, 0.010382, 0.032042, 0.052298, 0.041091, 0.0001156, 0.0000525, 0.00635, 0.022236, 0.0016998, 0.023754, 0.05597, 0.0001648, 0.010285, 0.011336, 0.0096608],                      \n",
    "[0.0000196, 4.6613, 4.8786, 0.059979, 0.14475, 0.26443, 0.56522, 2.6249, 4.3223, 3.0436, 0.23325, 0.93395, 2.3976, 0.4716, 0.27616, 4.9932, 1.385, 1.6103, 3.9838, 1.854, 4.8842, 0.0002671, 0.74503, 2.9584, 0.038304, 0.022066, 2.0511, 2.0297, 2.7389, 6.181, 2.0599, 2.1318]])                      "
   ]
  },
  {
   "cell_type": "code",
   "execution_count": 12,
   "metadata": {},
   "outputs": [],
   "source": [
    "dataset3[dataset3 == 0.] = 0.5\n",
    "sum2=np.sum(dataset3,axis=0)\n",
    "data3_n=dataset3/sum2"
   ]
  },
  {
   "cell_type": "code",
   "execution_count": 13,
   "metadata": {},
   "outputs": [
    {
     "name": "stdout",
     "output_type": "stream",
     "text": [
      "(11, 11)\n"
     ]
    }
   ],
   "source": [
    "M_covar3=np.cov(data3_n)\n",
    "size3=M_covar3.shape\n",
    "print(size3)"
   ]
  },
  {
   "cell_type": "code",
   "execution_count": 14,
   "metadata": {},
   "outputs": [
    {
     "data": {
      "text/plain": [
       "array([[ 1.35912881e+00,  3.10665368e-01,  5.71189462e-02,\n",
       "         8.83067500e-02,  3.09069225e-02, -4.62916873e-02,\n",
       "        -2.62026408e-03, -5.11647431e-02,  5.96283165e-02,\n",
       "        -5.14512008e-02, -1.75422722e+00],\n",
       "       [ 3.10665368e-01,  2.46235962e-01,  4.62345506e-02,\n",
       "         1.01971608e-01, -7.58675969e-02, -3.08834491e-02,\n",
       "        -8.44264685e-04, -1.54973297e-02,  2.61475362e-02,\n",
       "        -1.59661492e-02, -5.92196235e-01],\n",
       "       [ 5.71189462e-02,  4.62345506e-02,  8.73584903e-03,\n",
       "         1.86476053e-02, -1.57776355e-02, -6.36972241e-03,\n",
       "        -1.76087502e-04, -3.05004387e-03,  1.44992522e-02,\n",
       "        -3.22171887e-03, -1.16640995e-01],\n",
       "       [ 8.83067500e-02,  1.01971608e-01,  1.86476053e-02,\n",
       "         6.74460698e-01, -1.66580104e-01,  1.01613417e-01,\n",
       "         1.76229228e-03, -5.07560877e-02,  1.42810971e-01,\n",
       "        -1.39658518e-02, -8.98271297e-01],\n",
       "       [ 3.09069225e-02, -7.58675969e-02, -1.57776355e-02,\n",
       "        -1.66580104e-01,  1.06528251e+00,  2.42352474e-01,\n",
       "        -4.98396620e-03, -1.21750347e-01,  2.89454900e-01,\n",
       "        -9.91643274e-02, -1.14387283e+00],\n",
       "       [-4.62916873e-02, -3.08834491e-02, -6.36972241e-03,\n",
       "         1.01613417e-01,  2.42352474e-01,  7.95363654e-01,\n",
       "        -2.87342119e-03, -5.63419711e-02,  1.25367418e-02,\n",
       "        -4.64505087e-02, -9.62655526e-01],\n",
       "       [-2.62026408e-03, -8.44264685e-04, -1.76087502e-04,\n",
       "         1.76229228e-03, -4.98396620e-03, -2.87342119e-03,\n",
       "         8.10815707e-04,  3.02048210e-04,  9.42070516e-04,\n",
       "         1.42637443e-02, -6.58296734e-03],\n",
       "       [-5.11647431e-02, -1.54973297e-02, -3.05004387e-03,\n",
       "        -5.07560877e-02, -1.21750347e-01, -5.63419711e-02,\n",
       "         3.02048210e-04,  3.94987767e-01, -1.07889005e-01,\n",
       "        -2.38482758e-03,  1.35445392e-02],\n",
       "       [ 5.96283165e-02,  2.61475362e-02,  1.44992522e-02,\n",
       "         1.42810971e-01,  2.89454900e-01,  1.25367418e-02,\n",
       "         9.42070516e-04, -1.07889005e-01,  3.55209977e+00,\n",
       "        -1.22073068e-01, -3.86815748e+00],\n",
       "       [-5.14512008e-02, -1.59661492e-02, -3.22171887e-03,\n",
       "        -1.39658518e-02, -9.91643274e-02, -4.64505087e-02,\n",
       "         1.42637443e-02, -2.38482758e-03, -1.22073068e-01,\n",
       "         3.64183856e-01, -2.37699481e-02],\n",
       "       [-1.75422722e+00, -5.92196235e-01, -1.16640995e-01,\n",
       "        -8.98271297e-01, -1.14387283e+00, -9.62655526e-01,\n",
       "        -6.58296734e-03,  1.35445392e-02, -3.86815748e+00,\n",
       "        -2.37699481e-02,  9.35282997e+00]])"
      ]
     },
     "execution_count": 14,
     "metadata": {},
     "output_type": "execute_result"
    }
   ],
   "source": [
    "B3_ij=M_covar3*100.\n",
    "B3_ij[:,:]"
   ]
  },
  {
   "cell_type": "markdown",
   "metadata": {},
   "source": [
    "### Simulación temporal a partir de la matriz de correlación"
   ]
  },
  {
   "cell_type": "code",
   "execution_count": 15,
   "metadata": {},
   "outputs": [],
   "source": [
    "#función que permitirá integrar las ecuaciones diferenciales para obtener la evolución temporal\n",
    "def Dx_dt_t0(x,t=0):\n",
    "    r,b,c = params #introduciión de parámetros\n",
    "    N=len(r)\n",
    "    dx_dt=[]\n",
    "    x_n=[]\n",
    "    for i in range(N):\n",
    "        dx = r[i] \n",
    "        for j in range(N):\n",
    "            dx = dx + b[i][j]*x[j]   #cálculo de r efectiva\n",
    "        dx = dx*x[i]*(1-c[i]*x[i])   #cálculo de la ecuación entera\n",
    "        dx_dt.append(dx)       #se almacenan las ecuaciones\n",
    "        x_n.append(x[i])       #se almacena la variable de cada ecuación (x_1,x_2....)\n",
    "        \n",
    "    return dx_dt"
   ]
  },
  {
   "cell_type": "code",
   "execution_count": 18,
   "metadata": {},
   "outputs": [
    {
     "data": {
      "image/png": "[encoded data removed]",
      "text/plain": [
       "<Figure size 432x288 with 1 Axes>"
      ]
     },
     "metadata": {
      "needs_background": "light"
     },
     "output_type": "display_data"
    }
   ],
   "source": [
    "#se presentan como ejemplo los datos del dataset 1\n",
    "r=[0.3, 0.25, 0.36, 0.52, 0.59, 0.46, 0.82, 0.44, 0.22]\n",
    "b=[[ 2.43435886e-01, -1.95732475e-01,  4.90237021e-03,\n",
    "         2.91866825e-02,  3.07150441e-04, -1.41175550e-02,\n",
    "        -3.87079546e-04, -6.74236647e-02, -1.71315036e-04],\n",
    "       [-1.95732475e-01,  5.64028304e-01, -8.42092410e-02,\n",
    "        -6.22121972e-02, -7.16102756e-04, -1.11119735e-02,\n",
    "        -3.36312141e-03, -4.65794894e-02, -1.60103704e-01],\n",
    "       [ 4.90237021e-03, -8.42092410e-02,  3.69714717e-02,\n",
    "        -1.73893690e-02, -9.50485010e-04,  5.58443229e-04,\n",
    "        -4.88200033e-05,  2.32359618e-02,  3.69296681e-02],\n",
    "       [ 2.91866825e-02, -6.22121972e-02, -1.73893690e-02,\n",
    "         6.93676410e-02,  1.89860271e-03,  1.09355460e-02,\n",
    "         5.65232836e-04, -2.61723857e-02, -6.17975307e-03],\n",
    "       [ 3.07150441e-04, -7.16102756e-04, -9.50485010e-04,\n",
    "         1.89860271e-03,  5.04159022e-04,  6.05459155e-05,\n",
    "        -9.55755065e-05, -1.17595178e-03,  1.67656970e-04],\n",
    "       [-1.41175550e-02, -1.11119735e-02,  5.58443229e-04,\n",
    "         1.09355460e-02,  6.05459155e-05,  1.49270030e-02,\n",
    "         2.02974391e-04, -7.40260657e-03,  5.94762250e-03],\n",
    "       [-3.87079546e-04, -3.36312141e-03, -4.88200033e-05,\n",
    "         5.65232836e-04, -9.55755065e-05,  2.02974391e-04,\n",
    "         1.48116485e-04,  1.45061388e-03,  1.52765888e-03],\n",
    "       [-6.74236647e-02, -4.65794894e-02,  2.32359618e-02,\n",
    "        -2.61723857e-02, -1.17595178e-03, -7.40260657e-03,\n",
    "         1.45061388e-03,  1.43869444e-01, -1.98019219e-02],\n",
    "       [-1.71315036e-04, -1.60103704e-01,  3.69296681e-02,\n",
    "        -6.17975307e-03,  1.67656970e-04,  5.94762250e-03,\n",
    "         1.52765888e-03, -1.98019219e-02,  1.41684087e-01]]\n",
    "c=[1/2.0918, 1/1.7705, 1/0.53361, 1/1.3836, 1/0.042623, 1/0.027869, 1/0.0016393, 1/0.0007938, 1/0.0016393] #el valor c es 1 entre el último valor de la evolución (en este caso la réplica 2 del dataset 1)\n",
    "N= len(r)    \n",
    "params=(r,b,c)\n",
    "\n",
    "from scipy import integrate\n",
    "t = np.linspace(2,13, 500)              # definimos el tiempo en días que se simulará y los steps que habrá en ese tiempo\n",
    "\n",
    "X0 = np.array([2.0483,3.9478,0.58849,1.7909,0.0080431,0.024129,0.0093834,0.000967,0.0011137])                     # condiciones iniciales (primer dato del dataset tras la perturbación)\n",
    "X,infodict = integrate.odeint(Dx_dt_t0, X0, t, full_output=True)  #se realiza la integral\n",
    "infodict['message']                     # >>> 'Integration successful.'\n",
    "\n",
    "\n",
    "import pylab as plt\n",
    "\n",
    "f1 = plt.figure()                                     #se crea el gráfico con la evolución de los distintos OTUs\n",
    "plt.plot(t, X.T[0], color='lime', label='OTU1')\n",
    "plt.plot(t, X.T[1], color='darkgreen', linestyle='--', label='OTU2')\n",
    "plt.plot(t, X.T[2], color='orange', label='OTU3')\n",
    "plt.plot(t, X.T[3], color='brown', linestyle='--', label='OTU4')\n",
    "plt.plot(t, X.T[4], color='green', label='OTU5')\n",
    "plt.plot(t, X.T[5], color='red', linestyle='--', label='OTU6')\n",
    "plt.plot(t, X.T[6], color='yellow', label='OTU8')\n",
    "plt.plot(t, X.T[7], color='cyan', linestyle='--', label='OTU9')\n",
    "plt.plot(t, X.T[8], color='magenta', label='OTU11')\n",
    "\n",
    "plt.grid()\n",
    "plt.legend(bbox_to_anchor=(0.55, 0.15, 0.4,0.8), ncol=2,borderaxespad=0)\n",
    "plt.xlabel('tiempo')\n",
    "plt.ylabel('población')\n",
    "plt.title('Evolución simulada de los OTUs')\n",
    "\n",
    "#f1.savefig('Evo_simul_dataset1.2.png')\n",
    "\n",
    "plt.show()"
   ]
  },
  {
   "cell_type": "code",
   "execution_count": null,
   "metadata": {},
   "outputs": [],
   "source": []
  }
 ],
 "metadata": {
  "kernelspec": {
   "display_name": "Python 3",
   "language": "python",
   "name": "python3"
  },
  "language_info": {
   "codemirror_mode": {
    "name": "ipython",
    "version": 3
   },
   "file_extension": ".py",
   "mimetype": "text/x-python",
   "name": "python",
   "nbconvert_exporter": "python",
   "pygments_lexer": "ipython3",
   "version": "3.7.1"
  }
 },
 "nbformat": 4,
 "nbformat_minor": 2
}
