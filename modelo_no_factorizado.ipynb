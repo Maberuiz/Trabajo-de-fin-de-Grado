{
 "cells": [
  {
   "cell_type": "code",
   "execution_count": 1,
   "metadata": {},
   "outputs": [],
   "source": [
    "#se importan los paquetes necesarios\n",
    "import matplotlib.pyplot as plt\n",
    "import numpy as np\n",
    "import mpmath \n",
    "from ipywidgets import interact\n",
    "from sympy.solvers import solve\n",
    "from sympy.core.symbol import symbols"
   ]
  },
  {
   "cell_type": "code",
   "execution_count": 2,
   "metadata": {},
   "outputs": [],
   "source": [
    "#función para definir los parámetros que se introducirán al modelo\n",
    "def param_4sp(r1,r2,r3,r4,b11,b12,b13,b14,b21,b22,b23,b24,b31,b32,b33,b34,b41,b42,b43,b44,a1,a2,a3,a4,c1,c2,c3,c4):\n",
    "    R=np.zeros((4,))\n",
    "    C=np.zeros((4,))\n",
    "    A=np.zeros((4,))\n",
    "    B=np.zeros((4,4))\n",
    "    R[0]=r1\n",
    "    R[1]=r2\n",
    "    R[2]=r3\n",
    "    R[3]=r4\n",
    "    B[0][0]=b11\n",
    "    B[0][1]=b12\n",
    "    B[0][2]=b13\n",
    "    B[0][3]=b14\n",
    "    B[1][0]=b21\n",
    "    B[1][1]=b22\n",
    "    B[1][2]=b23\n",
    "    B[1][3]=b24\n",
    "    B[2][0]=b31\n",
    "    B[2][1]=b32\n",
    "    B[2][2]=b33\n",
    "    B[2][3]=b34\n",
    "    B[3][0]=b41\n",
    "    B[3][1]=b42\n",
    "    B[3][2]=b43\n",
    "    B[3][3]=b44\n",
    "    A[0]=a1\n",
    "    A[1]=a2\n",
    "    A[2]=a3\n",
    "    A[3]=a4\n",
    "    C[0]=c1\n",
    "    C[1]=c2\n",
    "    C[2]=c3\n",
    "    C[3]=c4\n",
    "    return R,B,A,C"
   ]
  },
  {
   "cell_type": "code",
   "execution_count": 3,
   "metadata": {},
   "outputs": [],
   "source": [
    "#función utilizada para encontrar las soluciones estacionarias del sistema de ecuaciones diferenciales\n",
    "def solut_4sp(params):\n",
    "    r,b,a,c = params  #se introducen los parámetros\n",
    "    print(a)\n",
    "    x1, x2, x3, x4= symbols('x1, x2, x3, x4', complex=True)\n",
    "    \n",
    "    #se definen las ecuaciones a resolver\n",
    "    dx1=x1*(r[0] + (b[0][0]-a[0])*x1 + b[0][1]*x2 + b[0][2]*x3 + b[0][3]*x4- c[0]*x1*(b[0][0]*x1 + b[0][1]*x2 + b[0][2]*x3 + b[0][3]*x4))\n",
    "    dx2=x2*(r[1] + (b[1][1]-a[1])*x2 + b[1][0]*x1 + b[1][2]*x3 + b[1][3]*x4- c[1]*x2*(b[1][0]*x1 + b[1][1]*x2 + b[1][2]*x3 + b[1][3]*x4))\n",
    "    dx3=x3*(r[2] + (b[2][2]-a[2])*x3 + b[2][0]*x1 + b[2][1]*x2 + b[2][3]*x4- c[2]*x3*(b[2][0]*x1 + b[2][1]*x2 + b[2][2]*x3 + b[2][3]*x4))\n",
    "    dx4=x4*(r[3] + (b[3][3]-a[3])*x4 + b[3][0]*x1 + b[3][1]*x2 + b[3][2]*x3- c[3]*x4*(b[3][0]*x1 + b[3][1]*x2 + b[3][2]*x3 + b[3][3]*x4))\n",
    "    \n",
    "    sols = solve([dx1, dx2, dx3, dx4],[x1, x2, x3, x4])  #se resuelve el sistema\n",
    "    \n",
    "    sol_compl = np.array((4,),dtype=complex)\n",
    "\n",
    "    return sols  #la función devuelve las soluciones estacionarias dle sistema"
   ]
  },
  {
   "cell_type": "code",
   "execution_count": 5,
   "metadata": {},
   "outputs": [
    {
     "name": "stdout",
     "output_type": "stream",
     "text": [
      "[0.00075 0.00075 0.00075 0.00075]\n",
      "<class 'sympy.core.mul.Mul'>\n"
     ]
    }
   ],
   "source": [
    "r,b,a,c = param_4sp(0.15,0.25,0.15,0.15, 0.04,-0.18,0.01,-0.25, 0.12,-0.82,0.19,0.01, 0.000,0.36,-0.29,0.01, 0.01,0.01,0.01,0.01, 0.00075,0.00075,0.00075,0.00075, 0.005,0.005,0.005,0.005)\n",
    "params=(r,b,a,c)  #definición manueal de los parámetros\n",
    "\n",
    "sols=solut_4sp(params)  "
   ]
  },
  {
   "cell_type": "code",
   "execution_count": 7,
   "metadata": {},
   "outputs": [],
   "source": [
    "#construcción de la matriz Jacobiana para encontrar los autovalores\n",
    "def Jacobian_4sp(X, params):\n",
    "    r,b,a,c = params\n",
    "\n",
    "    x1=X[0]\n",
    "    x2=X[1]\n",
    "    x3=X[2]\n",
    "    x4=X[3]\n",
    "    \n",
    "    J11 = r[0] + b[0][1]*x2 + b[0][2]*x3 + b[0][3]*x4 + 2.*(b[0][0]-a[0])*x1 - 2.*c[0]*b[0][1]*x1*x2 - 2.*c[0]*b[0][2]*x1*x3 - 2.*c[0]*b[0][3]*x1*x4 - 3.*c[0]*b[0][0]*x1*x1\n",
    "    J12 = b[0][1]*x1*(1. - c[0]*x1)\n",
    "    J13 = b[0][2]*x1*(1. - c[0]*x1)\n",
    "    J14 = b[0][3]*x1*(1. - c[0]*x1)\n",
    "    \n",
    "    J21 = b[1][0]*x2*(1. - c[1]*x2)\n",
    "    J22 = r[1] + b[1][0]*x1 + b[1][2]*x3 + b[1][3]*x4 + 2.*(b[1][1]-a[1])*x2 - 2.*c[1]*b[1][0]*x2*x1 - 2.*c[1]*b[1][2]*x2*x3 - 2.*c[1]*b[1][3]*x2*x4 - 3.*c[1]*b[1][1]*x2*x2\n",
    "    J23 = b[1][2]*x2*(1. - c[1]*x2)\n",
    "    J24 = b[1][3]*x2*(1. - c[1]*x2)\n",
    "\n",
    "    J31 = b[2][0]*x3*(1. - c[2]*x3)\n",
    "    J32 = b[2][0]*x3*(1. - c[2]*x3)\n",
    "    J33 = r[2]+ b[2][0]*x1 + b[2][1]*x2 + b[2][3]*x4 + 2.*(b[2][2]-a[2])*x3 - 2.*c[2]*b[2][0]*x3*x1 - 2.*c[2]*b[2][1]*x3*x2 - 2.*c[2]*b[2][3]*x3*x4 - 3.*c[2]*b[2][2]*x3*x3\n",
    "    J34 = b[2][3]*x3*(1. - c[2]*x3)\n",
    "\n",
    "    J41 = b[3][0]*x4*(1. - c[3]*x4)\n",
    "    J42 = b[3][1]*x4*(1. - c[3]*x4)\n",
    "    J43 = b[3][2]*x4*(1. - c[3]*x4)\n",
    "    J44 = r[3] + b[3][0]*x1 + b[3][1]*x2 + b[3][2]*x3 + 2.*(b[3][3]-a[3])*x4 - 2.*c[3]*b[3][0]*x4*x1 - 2.*c[3]*b[3][1]*x4*x2 - 2.*c[3]*b[3][2]*x4*x3 - 3.*c[3]*b[3][3]*x4*x4\n",
    "\n",
    "    \"\"\" Return the Jacobian matrix evaluated in X. \"\"\"\n",
    "    return np.array([[ J11, J12, J13, J14],\n",
    "                  [J21, J22, J23, J24],\n",
    "                  [J31, J32, J33, J34],\n",
    "                  [J41, J42, J43, J44]],  dtype=complex)"
   ]
  },
  {
   "cell_type": "code",
   "execution_count": 8,
   "metadata": {},
   "outputs": [
    {
     "name": "stdout",
     "output_type": "stream",
     "text": [
      "Xsfinite: (200.000000000000, 47.4026477164719, 66.2584592342409, 200.000000000000)\n",
      "X: [200.000000000000, 47.4026477164719, 66.2584592342409, 200.000000000000]\n",
      "l1= (-29.62636211132484+0j) ; l2= (49.719891996622536+0j) ; l3= (-12.849187218791293+0j) ; l4= (-5.286611069507129+0j)\n",
      "Xsfinite: (200.000000000000, 78.4323383366117, 200.000000000000, 200.000000000000)\n",
      "X: [200.000000000000, 78.4323383366117, 200.000000000000, 200.000000000000]\n",
      "l1= (-39.02831004251024+0j) ; l2= (53.9678209005901+0j) ; l3= (27.614358198819787+0j) ; l4= (-6.934323383366118+0j)\n",
      "Xsfinite: (200.000000000000, 199.775628552713, 255.411125099920, 200.000000000000)\n",
      "X: [200.000000000000, 199.775628552713, 255.411125099920, 200.000000000000]\n",
      "l1= (88.85412346190526+0j) ; l2= (75.25550188848923+0j) ; l3= (20.521295816993472+0j) ; l4= (-8.701867536526336+0j)\n",
      "Xsfinite: (200.000000000000, 199.799368980461, 200.000000000000, 200.000000000000)\n",
      "X: [200.000000000000, 199.799368980461, 200.000000000000, 200.000000000000]\n",
      "l1= (99.42113016446143+0j) ; l2= (75.81388641648307+0j) ; l3= (-16.077772832966133+0j) ; l4= (-8.147993689804615+0j)\n",
      "Xsfinite: (2082.94101275671, 200.146414567446, 255.871411187175, 200.000000000000)\n",
      "X: [2082.94101275671, 200.146414567446, 255.871411187175, 200.000000000000]\n",
      "l1= (-784.3151953823588+0j) ; l2= (-136.6740985052977+0j) ; l3= (20.72905039694797+0j) ; l4= (-27.539588385113362+0j)\n",
      "Xsfinite: (2096.95501901071, 200.156670891269, 200.000000000000, 200.000000000000)\n",
      "X: [2096.95501901071, 200.156670891269, 200.000000000000, 200.000000000000]\n",
      "l1= (-795.4650076024341+0j) ; l2= (-127.72842336993506+0j) ; l3= (-16.206401520856957+0j) ; l4= (-27.121116899019814+0j)\n",
      "STABLE\n",
      "\n",
      "Xsfinite: (4147.86640956072, 655.914757680159, 200.000000000000, 200.000000000000)\n",
      "X: [4147.86640956072, 655.914757680159, 200.000000000000, 200.000000000000]\n",
      "l1= (-2580.314801566008+0j) ; l2= (531.1954327934831+0j) ; l3= (-180.27931276485734+0j) ; l4= (-52.187811672408756+0j)\n",
      "Xsfinite: (9114.83148870442, 1878.54002611052, 2339.39451517168, 200.000000000000)\n",
      "X: [9114.83148870442, 1878.54002611052, 2339.39451517168, 200.000000000000]\n",
      "l1= (-10293.112665583554+0j) ; l2= (6969.702356876247+0j) ; l3= (7257.087302142456+0j) ; l4= (-135.47766029986616+0j)\n"
     ]
    }
   ],
   "source": [
    "Xss=[] #lista de soluciones estables\n",
    "Lss=[] #lista de autovalores de dichas soluciones\n",
    "X_finite=[] #lista de soluciones positivas\n",
    "for s in sols:\n",
    "    if s[0]>0 and s[1]>0 and s[2]>0 and s[3]>0:  #se comprueba que la solución tenga todos sus valores positivos\n",
    "        print('Xsfinite:', s)\n",
    "        X_f = ([s[0], s[1], s[2], s[3]])\n",
    "        X_finite.append(X_f)\n",
    "    \n",
    "        print('X:', X_f)\n",
    "        A_f1 = Jacobian_4sp(X_f,params)         #se define la matriz Jacobiana           \n",
    "                                                \n",
    "        lambda1, lambda2, lambda3, lambda4 = np.linalg.eigvals(A_f1) #se calculan los autovalores\n",
    "        print('l1=',lambda1,'; l2=', lambda2, '; l3=',lambda3, '; l4=', lambda4)\n",
    "        if(lambda1.real<0 and lambda2.real<0 and lambda3.real<0 and lambda4.real<0): #se comprueba que todos tengan su parte real menor que 0\n",
    "            print('STABLE\\n')\n",
    "            Xss.append([s[0], s[1], s[2], s[3]])\n",
    "            Lss.append([lambda1, lambda2, lambda3, lambda4])"
   ]
  },
  {
   "cell_type": "code",
   "execution_count": null,
   "metadata": {},
   "outputs": [],
   "source": [
    "Xss #se muestran las soluciones estables"
   ]
  },
  {
   "cell_type": "code",
   "execution_count": null,
   "metadata": {},
   "outputs": [],
   "source": [
    "Lss[0]  #se muestran los autovalores de dichas soluciones"
   ]
  }
 ],
 "metadata": {
  "kernelspec": {
   "display_name": "Python 3",
   "language": "python",
   "name": "python3"
  },
  "language_info": {
   "codemirror_mode": {
    "name": "ipython",
    "version": 3
   },
   "file_extension": ".py",
   "mimetype": "text/x-python",
   "name": "python",
   "nbconvert_exporter": "python",
   "pygments_lexer": "ipython3",
   "version": "3.7.1"
  }
 },
 "nbformat": 4,
 "nbformat_minor": 2
}
